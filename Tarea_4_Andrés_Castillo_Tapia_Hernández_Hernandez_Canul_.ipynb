{
  "nbformat": 4,
  "nbformat_minor": 5,
  "metadata": {
    "kernelspec": {
      "display_name": "Julia 1.6.2",
      "language": "julia",
      "name": "julia-1.6"
    },
    "language_info": {
      "file_extension": ".jl",
      "mimetype": "application/julia",
      "name": "julia",
      "version": "1.6.1"
    },
    "colab": {
      "name": "Tarea 4 Andrés Castillo- Tapia Hernández-Hernandez Canul .ipynb",
      "provenance": [],
      "collapsed_sections": []
    }
  },
  "cells": [
    {
      "cell_type": "markdown",
      "metadata": {
        "id": "o3AycdYRhLQQ"
      },
      "source": [
        ""
      ],
      "id": "o3AycdYRhLQQ"
    },
    {
      "cell_type": "markdown",
      "metadata": {
        "id": "90c742d2"
      },
      "source": [
        "# Tarea 4: Bases de datos\n",
        "\n",
        "Esta tarea será un poco más fácil que el resto (sólo tienes que resolver 8/9 problemas), pues creo que ha estas alturas del semestre se empieza a acumular el trabajo de otras materias. Sin embargo requerirá que investiguen un poco de algunas paqueterías, en especial sobre la paquetería LsqFit. La paquetería es para hacer ajuste (algo similar a mínimos cuadrados) de datos. [<em>Aquí<em>](https://julianlsolvers.github.io/LsqFit.jl/latest/tutorial/) la página del tutorial. \n",
        "    \n",
        "Para Instalar la paquetería, igual que con el resto hasta ahora, tienen que escribir en una celda:\n",
        "\n",
        "] add LsqFit\n",
        "    \n",
        "Una vez instalada la cargan usando: \n",
        "\n",
        "using LsqFit\n",
        "    \n",
        "Entonces, utilizaremos 5 paqueterías en esta tarea, LinearAlgebra, DataFrames, CSV, Plots y LsqFit. \n",
        "    \n",
        "También puede ser que utilices la paquetería Telegram.jl, otras (Images, Colors, FFTW, PortAudio, VideoIO, etc...), dependiendo de qué tan elaborado quieres que sea tu colecta de datos. \n",
        "    \n",
        "El último problema es sobre Telegram y lo considero un problema extra (por eso sólo tienes que resolver 8/9), pero tiene la hermosa propiedad de que si lo resuelves te suma 0.5puntos al promedio de tus tareas. Es decir tu calificación final sería \n",
        "    \n",
        "    %10 calificación práctica + %30 calificación proyecto + 60% min(calificacion promedio de tareas + 0.5, 10) \n",
        "    \n",
        "En otras palabras, ese ejercicio cuenta como 5% de todas las tareas juntas, dicho de otra forma, cuenta como media tarea completa extra!!. "
      ],
      "id": "90c742d2"
    },
    {
      "cell_type": "markdown",
      "metadata": {
        "id": "28a234e4"
      },
      "source": [
        "[1] **(fácil)** Junto con esta tarea subí una tanda de videos sobre Telegram, lo que abre un mundo de posibilidades. Podrían hacer un bot para por ejemplo registrar alguna actividad que hagan diario, o datos de un experimento, etc... Haz una base de datos usando DataFrames que contenga los datos que te interesaría registrar. Es decir, piensa qué debe contener cada columna de tu base de datos y genera dicha base (vacía por el momento), por ejemplo: Día, Hora, Calorias_consumidas y Calorias_quemadas. Asegúrate que tu base de datos incluya la posibilidad de \"missing\". Asegúrate también de tener columnas que representen las variables independientes (por ejemplo el tiempo, posición, etc...). \n",
        "\n",
        "NOTA: No necesitas Telegram, lo mencioné sólo por el contexto e ideas de aplicación. "
      ],
      "id": "28a234e4"
    },
    {
      "cell_type": "code",
      "metadata": {
        "colab": {
          "base_uri": "https://localhost:8080/",
          "height": 180
        },
        "id": "4epEJUNf9KHW",
        "outputId": "1f802d3e-a904-48c7-90ec-f5e11356e1ab"
      },
      "source": [
        "using Pkg, CSV, DataFrames,LsqFit,Plots, Tables"
      ],
      "id": "4epEJUNf9KHW",
      "execution_count": null,
      "outputs": [
        {
          "output_type": "error",
          "ename": "NameError",
          "evalue": "ignored",
          "traceback": [
            "\u001b[0;31m---------------------------------------------------------------------------\u001b[0m",
            "\u001b[0;31mNameError\u001b[0m                                 Traceback (most recent call last)",
            "\u001b[0;32m<ipython-input-3-ed7178acb8b6>\u001b[0m in \u001b[0;36m<module>\u001b[0;34m()\u001b[0m\n\u001b[1;32m      1\u001b[0m \u001b[0murl\u001b[0m \u001b[0;34m=\u001b[0m \u001b[0;34m(\u001b[0m\u001b[0;34m\"https://raw.githubusercontent.com/MrCharles17/Tarea4/main/mlb.csv\"\u001b[0m\u001b[0;34m)\u001b[0m\u001b[0;34m\u001b[0m\u001b[0;34m\u001b[0m\u001b[0m\n\u001b[0;32m----> 2\u001b[0;31m \u001b[0mdownload\u001b[0m\u001b[0;34m(\u001b[0m\u001b[0murl\u001b[0m\u001b[0;34m,\u001b[0m\u001b[0;34m\"mlb.csv\"\u001b[0m\u001b[0;34m)\u001b[0m\u001b[0;34m;\u001b[0m\u001b[0;34m\u001b[0m\u001b[0;34m\u001b[0m\u001b[0m\n\u001b[0m",
            "\u001b[0;31mNameError\u001b[0m: name 'download' is not defined"
          ]
        }
      ]
    },
    {
      "cell_type": "code",
      "metadata": {
        "id": "nE5uGcMxHewo"
      },
      "source": [
        "function URLtoCSV(url::String,nombrecsv::String)\n",
        "\"\"\"\n",
        "Esta función descarga un archivo raw en la web con formato CSV\n",
        "\"\"\"\n",
        "download(url,nombrecsv)\n",
        "println(\"El nombre de tu archivo es: \",nombrecsv)\n",
        "end\n"
      ],
      "id": "nE5uGcMxHewo",
      "execution_count": null,
      "outputs": []
    },
    {
      "cell_type": "code",
      "metadata": {
        "id": "gmp-1ntgHkFr"
      },
      "source": [
        "URLtoCSV(\"https://raw.githubusercontent.com/MrCharles17/Tarea4/main/Practica_2.csv\",\"Practica_2.csv\")"
      ],
      "id": "gmp-1ntgHkFr",
      "execution_count": null,
      "outputs": []
    },
    {
      "cell_type": "code",
      "metadata": {
        "id": "_Cs5f-JBTv44"
      },
      "source": [
        "#Ahora leeremos el CSV\n",
        "println(\"Ingresa nombre del archivo CSV:\")\n",
        "nombrecsv = readline()\n",
        "df1 = DataFrame(CSV.File(\"$(nombrecsv)\"))\n",
        "println(first(df1))"
      ],
      "id": "_Cs5f-JBTv44",
      "execution_count": null,
      "outputs": []
    },
    {
      "cell_type": "code",
      "metadata": {
        "id": "omtis6EMTyC_"
      },
      "source": [
        ""
      ],
      "id": "omtis6EMTyC_",
      "execution_count": null,
      "outputs": []
    },
    {
      "cell_type": "markdown",
      "metadata": {
        "id": "26614a6e"
      },
      "source": [
        "[2] **(tán elaborado como quieras)** Obtén (o inventa) datos sufucicientes (al menos decenas de filas) para tu base de datos (puedes usar los datos de algún experimento de laboratorio que hayas hecho, o usando imágenes (por ejemplo, imágenes térmicas pueden darte datos de temperatura fácilmente) o [<em>sonido<em>](https://youtu.be/p2oPmGf_62Q), o simplemente con alguna función que utilice números aleatorios para generar los datos inventados de un \"experimento\" .\n",
        "    \n",
        "Cuando se trate de los datos de un experimento o datos inventados de un experimento pon una MUY breve (3 líneas) explicación del experimento y la teoría (típicamente una ecuación teórica de los datos). En caso de usar imágenes o sonido, pon también la explicación muy breve de lo que obtienes, aunque no haya la parte teórica. "
      ],
      "id": "26614a6e"
    },
    {
      "cell_type": "markdown",
      "metadata": {
        "id": "xPmddvbNZJSZ"
      },
      "source": [
        "**R**: Trabajaremos con la fluctuación de voltaje respecto a la posición dados dos polos fijos a volaje constante, para poder encontrar la forma del campo eléctrico. $V(cte)$ es la diferencia de voltaje en los dos polos, $X$ y $Y$ son la posición de la medición y $Z$ el voltaje en ese punto.\n"
      ],
      "id": "xPmddvbNZJSZ"
    },
    {
      "cell_type": "code",
      "metadata": {
        "id": "389c7b28"
      },
      "source": [
        "first(df1)"
      ],
      "id": "389c7b28",
      "execution_count": null,
      "outputs": []
    },
    {
      "cell_type": "code",
      "metadata": {
        "id": "hA485R-YT6PA"
      },
      "source": [
        "allowmissing!(df1)\n",
        "df2 = DataFrame(Vi = missing, X = 12 ,Y= missing, Z = 0.54)\n",
        "@show df2\n",
        "append!(df1,df2) ##Escribimos un nuevo valor con missings incluídos, añadiendo una fila nueva\n",
        "dropmissing!(df1); #Y luego loborramos porque no lo necesitamos"
      ],
      "id": "hA485R-YT6PA",
      "execution_count": null,
      "outputs": []
    },
    {
      "cell_type": "markdown",
      "metadata": {
        "id": "3a6b05af"
      },
      "source": [
        "[3] **(súper fácil)** Grafica los datos que obtuviste para cada una de las columnas de variables independientes vs variables dependientes. Si son muchos datos, sepáralo para que las gráficas sean claras (usa tu criterio para decidir cuando está bien visualizada la información, no es algo que calificaré, pero es mejor hacerlo bien).  "
      ],
      "id": "3a6b05af"
    },
    {
      "cell_type": "code",
      "metadata": {
        "id": "e69acab1"
      },
      "source": [
        "scatter([df1.X],[df1.Z], m=:o, alpha=0.5,ms = 3, xlabel = \"Posición en X (cm)\", ylabel = \"Voltaje(V)\", leg=false)\n"
      ],
      "id": "e69acab1",
      "execution_count": null,
      "outputs": []
    },
    {
      "cell_type": "code",
      "metadata": {
        "id": "WW8cYKymUA1I"
      },
      "source": [
        "scatter([df1.Y],[df1.Z], m=:o, alpha=0.5,ms = 3, xlabel = \"Posición en Y(cm)\", ylabel = \"Voltaje(V)\", leg=false)"
      ],
      "id": "WW8cYKymUA1I",
      "execution_count": null,
      "outputs": []
    },
    {
      "cell_type": "markdown",
      "metadata": {
        "id": "de6eeb7b"
      },
      "source": [
        "[4] **(súper fácil)** Haz una descripción general de tus datos (promedio, valor mínimo, valor máximo y desviación estandar). "
      ],
      "id": "de6eeb7b"
    },
    {
      "cell_type": "code",
      "metadata": {
        "id": "9046c0c8"
      },
      "source": [
        "begin\n",
        "z=hcat([df1.Z][1])\n",
        "println(\"El promedio de X,Y y Z respectivamente es: \", mean.([df1.X]), mean.([df1.Y]), mean.([df1.Z]))\n",
        "println(\"El máximo de Z  es: \", findmax(z,1)) #No supe cómo hacer que Julia entienda que es un arreglo\n",
        "println(\"El mínimo de Z  es: \", findmin(z,1))\n",
        "println(\"La Deviación estándar de Z es: \", std.(z[1], mean.([df1.Z],length(z[1]) )))   \n",
        "end\n"
      ],
      "id": "9046c0c8",
      "execution_count": null,
      "outputs": []
    },
    {
      "cell_type": "markdown",
      "metadata": {
        "id": "9fffb535"
      },
      "source": [
        "[5] **(súper fácil)** Exporta tus datos a un archivo CSV. "
      ],
      "id": "9fffb535"
    },
    {
      "cell_type": "code",
      "metadata": {
        "id": "ecf08af6"
      },
      "source": [
        "CSV.write(\"Datos_nuevos.csv\", df1)"
      ],
      "id": "ecf08af6",
      "execution_count": null,
      "outputs": []
    },
    {
      "cell_type": "markdown",
      "metadata": {
        "id": "34eb20a9"
      },
      "source": [
        "[6] **(difícil)** Los números amigables ([<em>amigables<em>](https://en.wikipedia.org/wiki/Friendly_number), no [<em>amigos<em>](https://en.wikipedia.org/wiki/Amicable_numbers)), son aquellos cuyas fracciones $\\sigma(n)/n$ son iguales, donde $\\sigma(n)$ es la suma de los divisores (incluido el mismo número). Por ejemplo el 6 y el 28 son números amigables, porque $\\sigma(6) = 1+2+3+6 = 12$, $\\sigma(28) = 1+2+4+7+14+28 = 56$, por lo que $\\sigma(6)/6 = 2 = \\sigma(28)/28$. Haz una matriz $amigables$ de $10^4 \\times 10^4$ donde $amigables[j,i] = 0$ si $(i,j)$ no son amigos y $amigables[j,i] = \\sigma(i)/i = \\sigma(j)/j$ si son amigables. Finalmente transforma esa matriz en una imágen y genera un diccionario para leer esa imagen como una base de datos. "
      ],
      "id": "34eb20a9"
    },
    {
      "cell_type": "code",
      "metadata": {
        "id": "4209e998"
      },
      "source": [
        "using Colors, Images, DataFrames"
      ],
      "id": "4209e998",
      "execution_count": null,
      "outputs": []
    },
    {
      "cell_type": "code",
      "metadata": {
        "id": "-rvaYmv2PPQM"
      },
      "source": [
        "\"\"\"\n",
        "Esta función toma por argumentos dos números enteros (i, j) y devuelve 𝜎(i)/i si son números amigables, ó 0 si no lo son. \n",
        "\"\"\"\n",
        "function numeros_amigables(i::Int, j::Int)\n",
        "    #Representa la suma de los divisores de i\n",
        "    σ_i=0                     \n",
        "    for x in 1:i\n",
        "        if mod(i,x) == 0\n",
        "            σ_i = σ_i + x\n",
        "        end\n",
        "    end\n",
        "    #Representa la suma de los divisores de j\n",
        "    σ_j=0                     \n",
        "    for x in 1:j\n",
        "        if mod(j,x) == 0\n",
        "            σ_j = σ_j + x\n",
        "        end\n",
        "    end\n",
        "    #Si se cumple la condición de los números amigables, devuelve el valor representado como fracción \n",
        "    if (σ_i/i) == (σ_j/j)\n",
        "        return σ_i//i\n",
        "    else\n",
        "        return 0\n",
        "    end\n",
        "end"
      ],
      "id": "-rvaYmv2PPQM",
      "execution_count": null,
      "outputs": []
    },
    {
      "cell_type": "code",
      "metadata": {
        "id": "TaMHd8VxPSpI"
      },
      "source": [
        "#Creación de la matriz de n x n\n",
        "n = 10000\n",
        "amigables=[numeros_amigables(i,j) for i ∈ 1:n, j in 1:n]"
      ],
      "id": "TaMHd8VxPSpI",
      "execution_count": null,
      "outputs": []
    },
    {
      "cell_type": "code",
      "metadata": {
        "id": "a_ipm3GNPUfY"
      },
      "source": [
        "\"\"\"\n",
        "Esta función toma por argumento una matriz y devuelve una imagen, donde cada pixel representa una entrada de la matriz\n",
        "y, por medio de una determinada transformación, su color determina un valor en concreto. \n",
        "\"\"\"\n",
        "function matriz_a_imagen(matriz)\n",
        "    n, m = size(matriz)\n",
        "    #Se crea la imagen del mismo tamaño que la matriz. En un principio, todos los pixeles tienen el mismo color\n",
        "    Imagen = [RGB{Float64}(0,0,0) for i in 1:n, j in 1:m]\n",
        "    #Para cada pixel se le asigna un color dependiendo del valor de la entrada que representa\n",
        "    for i in 1:n\n",
        "        for j in 1:m\n",
        "            if numeros_amigables(i,j) != 0\n",
        "                na=numeros_amigables(i,j)\n",
        "                Imagen[j,i] = RGB(0, 1/numerator(na), 1/denominator(na))\n",
        "            else\n",
        "                Imagen[j,i] = RGB(1,1,1)\n",
        "            end\n",
        "        end\n",
        "    end\n",
        "    return Imagen\n",
        "end\n",
        "\n",
        "Imagen=matriz_a_imagen(amigables)"
      ],
      "id": "a_ipm3GNPUfY",
      "execution_count": null,
      "outputs": []
    },
    {
      "cell_type": "code",
      "metadata": {
        "id": "UNT0jqD8PXqx"
      },
      "source": [
        "\"\"\"\n",
        "Esta función es la regla de transformación para pasar del color de un pixel al valor númerico original \n",
        "de la entrada de la matriz. \n",
        "\"\"\"\n",
        "function diccionario(i,j)\n",
        "    if Imagen[j,i] == RGB(1,1,1)\n",
        "        return 0\n",
        "    else\n",
        "        #Debido a que las entradas, en los valores de RGB, son números flotantes\n",
        "        #cuando se hace la transformación inversa, los números pueden que no sean exactamente los valores originales, sino muy\n",
        "        #cercanos a estos; en esos casos se opta por redondear el valor, de tal manera que si se pueda hacer la transformación \n",
        "        try \n",
        "            a=convert(Int64, 1/Imagen[j,i].g)\n",
        "            b=convert(Int64, 1/Imagen[j,i].b)\n",
        "            return a//b\n",
        "        catch\n",
        "            a=convert(Int64, round(1/Imagen[j,i].g))\n",
        "            b=convert(Int64, round(1/Imagen[j,i].b))\n",
        "            return a//b\n",
        "        end\n",
        "    end\n",
        "end"
      ],
      "id": "UNT0jqD8PXqx",
      "execution_count": null,
      "outputs": []
    },
    {
      "cell_type": "code",
      "metadata": {
        "id": "la_1vC8fPcX9"
      },
      "source": [
        "\"\"\"\n",
        "Esta función transforma la imagen a una tabla, con los valores equivalentes de cada color del pixel.\n",
        "\"\"\"\n",
        "function imagen_a_tabla(Imagen; columnas = [\"$(i)\" for i in 1:size(Imagen, 2)])\n",
        "    types = [Union{typeof(1//2), typeof(0)} for i in 1:size(Imagen,2)]\n",
        "    tabla = DataFrame(columnas .=>  [type[] for type in types])\n",
        "    for i in 1:size(Imagen, 1)\n",
        "        push!(tabla, [diccionario(i,j) for j in 1:size(Imagen,2)])\n",
        "    end\n",
        "    return tabla\n",
        "end \n",
        "\n",
        "tabla=imagen_a_tabla(Imagen)"
      ],
      "id": "la_1vC8fPcX9",
      "execution_count": null,
      "outputs": []
    },
    {
      "cell_type": "markdown",
      "metadata": {
        "id": "2d885b5d"
      },
      "source": [
        "[7] **(largo-medianamente difícil)** Baja de [<em>aquí<em>](https://covid.ourworldindata.org/data/owid-covid-data.csv) la base de datos de covid para el mundo. Haz una función que busque el primer día de contagio para cada país y obtenga los datos de los primeros 100 días desde el primer día de contagio (similar para las muertes). Grafica el número de casos totales como función del número de días desde el primer caso reportado. Ajusta usando LsqFit una exponencial ($p_1 e^{p_2 x} + p_3$) y una ley de potencias ($p_1 x^{p_2}+p_3$) a los datos de los primeros 100 días de pandemia en 30 países (es decir, para cada país desde el primer día que hubo un contagio en ese país hasta 100 días después). ¿Qué ajuste es mejor: el de crecimiento exponencial o el de ley de potencias?\n",
        "    \n",
        "Nota: Te recomiendo elegir países de América, Asia y Europa. África ha tenido muy malos registros y Oceanía ha tenido muy pocos casos para observar tendencias. "
      ],
      "id": "2d885b5d"
    },
    {
      "cell_type": "code",
      "metadata": {
        "id": "1a8d142c"
      },
      "source": [
        "using LinearAlgebra, DataFrames, CSV, Plots, LsqFit"
      ],
      "id": "1a8d142c",
      "execution_count": null,
      "outputs": []
    },
    {
      "cell_type": "code",
      "metadata": {
        "id": "-hnASN1YhI4Y"
      },
      "source": [
        "COVID19 = CSV.File(open(read,\"owid-covid-data.csv\")) |> DataFrame"
      ],
      "id": "-hnASN1YhI4Y",
      "execution_count": null,
      "outputs": []
    },
    {
      "cell_type": "code",
      "metadata": {
        "id": "kO2w3Si-hYMM"
      },
      "source": [
        "function casos100dias(nombre_pais,aproximacion,casos_o_muertes)\n",
        "    indice=findfirst(isequal(nombre_pais),COVID19[!,3])\n",
        "    println(\"El primer día de contagio de $nombre_pais fue \", COVID19[indice,4])\n",
        "\n",
        "    \n",
        "#Tenemos que cambiar los valores de 0 a un missing, para el número de casos por día y muertes\n",
        "    replace!(COVID19[!,6], missing => 0)\n",
        "    replace!(COVID19[!,9], missing => 0)\n",
        "\n",
        "    negativos_o_cero_contragios = findall(x->x <= 0, COVID19[!,6])\n",
        "    negativos_o_cero_muertes = findall(x->x <= 0, COVID19[!,9])\n",
        "\n",
        "\n",
        "    for i in negativos_o_cero_contragios\n",
        "        COVID19[i,6]=missing\n",
        "\n",
        "    end\n",
        "    for i in negativos_o_cero_muertes\n",
        "        COVID19[i,9]=missing\n",
        "\n",
        "    end\n",
        "    \n",
        "    \n",
        "        #Lo primero que hacemos es crear un arreglo de arreglos que sólo aloje, el nombre del país, el número de día y la cantidad \n",
        "    #contagios\n",
        "\n",
        "    pais = unique(COVID19.\"location\")\n",
        "    npaises = length(pais)\n",
        "    ndias = 100\n",
        "    #Creamos dos matrices, una para alojar la cantidad de casos, y otra pa la cantidad de muertes\n",
        "\n",
        "    contagios = Array{Union{Missing, Float64},2}(missing, npaises, ndias);\n",
        "    muertes = Array{Union{Missing, Float64},2}(missing, npaises, ndias);\n",
        "\n",
        "    \n",
        "    \n",
        "    \n",
        "        #Llenamos ahora la matriz de contagios por dia con la información de cada país\n",
        "    #Para llenarlo tomamos cada pais, los días que le corresponden y el número de contagios nuevos en cada uno\n",
        "    #Usaremos un arreglo auxiliar para saber en que indice de la tabla original termina un determinado pais   \n",
        "\n",
        "    #En este caso la cantidad de días no es igual para todos los paises, lo que haremos será optar por mantener el missing\n",
        "    # en el caso en que no se tengan el número de casos para determinado país a partir de ese día\n",
        "\n",
        "\n",
        "\n",
        "    indices_paises=[]\n",
        "    push!(indices_paises,[1,610])\n",
        "\n",
        "    for i in 2:npaises-1\n",
        "        A=[]\n",
        "        for j ∈ (indices_paises[i-1][2]+1):nrow(COVID19)\n",
        "            push!(A,ifelse( COVID19[j,3] != pais[i], true , false))\n",
        "        end\n",
        "        push!(indices_paises,[indices_paises[i-1][2]+1,(findfirst(A)-1)+indices_paises[i-1][2]])\n",
        "\n",
        "    end\n",
        "    push!(indices_paises,[125663,126247])\n",
        "\n",
        "    for i ∈ 1:npaises\n",
        "\n",
        "        for k in indices_paises[i][1]:(indices_paises[i][1]+ndias)\n",
        "            if k==indices_paises[i][1]\n",
        "                contagios[i,1]=COVID19[k,6]\n",
        "            else    \n",
        "                contagios[i,k-indices_paises[i][1]]=COVID19[k,6]\n",
        "            end\n",
        "        end\n",
        "\n",
        "    end\n",
        "\n",
        "    #Llenamos ahora la matriz de muertes por dia con la información de cada país\n",
        "    #Para llenarlo tomamos cada pais, los días que le corresponden y el número de contagios nuevos en cada uno\n",
        "    #Usaremos un arreglo auxiliar para saber en que indice de la tabla original termina un determinado pais   \n",
        "\n",
        "    #En este caso la cantidad de días no es igual para todos los paises, lo que haremos será optar por mantener el missing\n",
        "    # en el caso en que no se tengan el número de casos para determinado país a partir de ese día\n",
        "\n",
        "    for i ∈ 1:npaises\n",
        "\n",
        "        for k in indices_paises[i][1]:(indices_paises[i][1]+ndias)\n",
        "            if k==indices_paises[i][1]\n",
        "                muertes[i,1]=COVID19[k,9]\n",
        "\n",
        "            else    \n",
        "                muertes[i,k-indices_paises[i][1]]=COVID19[k,9]\n",
        "            end\n",
        "        end\n",
        "\n",
        "    end\n",
        "    \n",
        "   \n",
        "    \n",
        "    #Convertimos todos los missings en 0 porque no se puede realizar el ajuste teniendo este tipo de variable\n",
        "    replace!(contagios, missing => 0)\n",
        "    replace!(muertes, missing => 0)\n",
        "    \n",
        "   \n",
        "    @. expmodel(x, p) = p[1]*exp(x * p[2])\n",
        "    @. potmodel(x, p) = p[1]*(x^p[2])\n",
        "   \n",
        "    #Este primer condicional nos sirve para saber si queremos un ajuste con exponencial o con una seride potencias\n",
        "   \n",
        "   \n",
        "    if aproximacion \n",
        "         #Este segundo condicional determina si queremos los contagios o muertes  \n",
        "\n",
        "        if casos_o_muertes\n",
        "            numero_dias=1:100\n",
        "            plot(numero_dias,contagios[findfirst(isequal(nombre_pais),pais),:])\n",
        "\n",
        "            ydata = contagios[findfirst(isequal(nombre_pais),pais),:]\n",
        "            p0 = [0.5, 0.5]\n",
        "            fit = curve_fit(expmodel, numero_dias, ydata, p0)\n",
        "            #@show fit.param\n",
        "            plot!(numero_dias, fit.param[1]*exp.(numero_dias .* fit.param[2]), xlabel=\"días desde el primer caso\", ylabel=\"Número de casos\", title=\"Numero de casos $(pais[findfirst(isequal(nombre_pais),pais)])\",label = \"ajuste\")\n",
        "        else\n",
        "            numero_dias=1:100\n",
        "            plot(numero_dias,muertes[findfirst(isequal(nombre_pais),pais),:])\n",
        "\n",
        "            ydata = muertes[findfirst(isequal(nombre_pais),pais),:]\n",
        "            p0 = [0.5, 0.5]\n",
        "            fit = curve_fit(expmodel, numero_dias, ydata, p0)\n",
        "            #@show fit.param\n",
        "            plot!(numero_dias, fit.param[1]*exp.(numero_dias .* fit.param[2]), xlabel=\"días desde el primer caso\", ylabel=\"Número de muertes\", title=\"Numero de muertes  $(pais[findfirst(isequal(nombre_pais),pais)])\", label = \"ajuste\")\n",
        "        end\n",
        "    else\n",
        "        if casos_o_muertes\n",
        "            numero_dias=1:100\n",
        "            plot(numero_dias,contagios[findfirst(isequal(nombre_pais),pais),:])\n",
        "\n",
        "            ydata = contagios[findfirst(isequal(nombre_pais),pais),:]\n",
        "            p0 = [0.5, 0.5]\n",
        "            fit = curve_fit(potmodel, numero_dias, ydata, p0)\n",
        "            #@show fit.param\n",
        "            plot!(numero_dias, fit.param[1] .* (numero_dias .^ fit.param[2] ),xlabel=\"días desde el primer caso\", ylabel=\"Número de casos\", title=\"Numero de casos $(pais[findfirst(isequal(nombre_pais),pais)])\",label = \"ajuste\")\n",
        "        else\n",
        "            numero_dias=1:100\n",
        "            plot(numero_dias,muertes[findfirst(isequal(nombre_pais),pais),:])\n",
        "\n",
        "            ydata = muertes[findfirst(isequal(nombre_pais),pais),:]\n",
        "            p0 = [0.5, 0.5]\n",
        "            fit = curve_fit(potmodel, numero_dias, ydata, p0)\n",
        "            #@show fit.param\n",
        "            plot!(numero_dias, fit.param[1] .* (numero_dias .^ fit.param[2] ), xlabel=\"días desde el primer caso\", ylabel=\"Número de muertes\", title=\"Numero de muertes  $(pais[findfirst(isequal(nombre_pais),pais)])\", label = \"ajuste\")\n",
        "        end\n",
        "    end\n",
        "    plot!()   \n",
        "end\n",
        "\n",
        "\n",
        "\n"
      ],
      "id": "kO2w3Si-hYMM",
      "execution_count": null,
      "outputs": []
    },
    {
      "cell_type": "code",
      "metadata": {
        "id": "sXXdmLdyhgk7"
      },
      "source": [
        "function casos100dias(indice::Int,aproximacion,casos_o_muertes)\n",
        "    pais = unique(COVID19.\"location\")\n",
        "    npaises = length(pais)\n",
        "    ndias = 100\n",
        "    indice_a=findfirst(isequal(pais[indice]),COVID19[!,3])\n",
        "    println(\"El primer día de contagio de $(pais[indice]) fue \", COVID19[indice_a,4])\n",
        "\n",
        "#Tenemos que cambiar los valores de 0 a un missing, para el número de casos por día y muertes\n",
        "    replace!(COVID19[!,6], missing => 0)\n",
        "    replace!(COVID19[!,9], missing => 0)\n",
        "\n",
        "    negativos_o_cero_contragios = findall(x->x <= 0, COVID19[!,6])\n",
        "    negativos_o_cero_muertes = findall(x->x <= 0, COVID19[!,9])\n",
        "\n",
        "\n",
        "    for i in negativos_o_cero_contragios\n",
        "        COVID19[i,6]=missing\n",
        "\n",
        "    end\n",
        "    for i in negativos_o_cero_muertes\n",
        "        COVID19[i,9]=missing\n",
        "\n",
        "    end\n",
        "    \n",
        "    \n",
        "        #Lo primero que hacemos es crear un arreglo de arreglos que sólo aloje, el nombre del país, el número de día y la cantidad \n",
        "    #contagios\n",
        "\n",
        "    pais = unique(COVID19.\"location\")\n",
        "    npaises = length(pais)\n",
        "    ndias = 100\n",
        "    #Creamos dos matrices, una para alojar la cantidad de casos, y otra pa la cantidad de muertes\n",
        "\n",
        "    contagios = Array{Union{Missing, Float64},2}(missing, npaises, ndias);\n",
        "    muertes = Array{Union{Missing, Float64},2}(missing, npaises, ndias);\n",
        "\n",
        "    \n",
        "    \n",
        "    \n",
        "        #Llenamos ahora la matriz de contagios por dia con la información de cada país\n",
        "    #Para llenarlo tomamos cada pais, los días que le corresponden y el número de contagios nuevos en cada uno\n",
        "    #Usaremos un arreglo auxiliar para saber en que indice de la tabla original termina un determinado pais   \n",
        "\n",
        "    #En este caso la cantidad de días no es igual para todos los paises, lo que haremos será optar por mantener el missing\n",
        "    # en el caso en que no se tengan el número de casos para determinado país a partir de ese día\n",
        "\n",
        "\n",
        "\n",
        "    indices_paises=[]\n",
        "    push!(indices_paises,[1,610])\n",
        "\n",
        "    for i in 2:npaises-1\n",
        "        A=[]\n",
        "        for j ∈ (indices_paises[i-1][2]+1):nrow(COVID19)\n",
        "            push!(A,ifelse( COVID19[j,3] != pais[i], true , false))\n",
        "        end\n",
        "        push!(indices_paises,[indices_paises[i-1][2]+1,(findfirst(A)-1)+indices_paises[i-1][2]])\n",
        "\n",
        "    end\n",
        "    push!(indices_paises,[125663,126247])\n",
        "\n",
        "    for i ∈ 1:npaises\n",
        "\n",
        "        for k in indices_paises[i][1]:(indices_paises[i][1]+ndias)\n",
        "            if k==indices_paises[i][1]\n",
        "                contagios[i,1]=COVID19[k,6]\n",
        "            else    \n",
        "                contagios[i,k-indices_paises[i][1]]=COVID19[k,6]\n",
        "            end\n",
        "        end\n",
        "\n",
        "    end\n",
        "\n",
        "    #Llenamos ahora la matriz de muertes por dia con la información de cada país\n",
        "    #Para llenarlo tomamos cada pais, los días que le corresponden y el número de contagios nuevos en cada uno\n",
        "    #Usaremos un arreglo auxiliar para saber en que indice de la tabla original termina un determinado pais   \n",
        "\n",
        "    #En este caso la cantidad de días no es igual para todos los paises, lo que haremos será optar por mantener el missing\n",
        "    # en el caso en que no se tengan el número de casos para determinado país a partir de ese día\n",
        "\n",
        "    for i ∈ 1:npaises\n",
        "\n",
        "        for k in indices_paises[i][1]:(indices_paises[i][1]+ndias)\n",
        "            if k==indices_paises[i][1]\n",
        "                muertes[i,1]=COVID19[k,9]\n",
        "\n",
        "            else    \n",
        "                muertes[i,k-indices_paises[i][1]]=COVID19[k,9]\n",
        "            end\n",
        "        end\n",
        "\n",
        "    end\n",
        "    \n",
        "    \n",
        "    #Convertimos todos los missings en 0 porque no se puede realizar el ajuste teniendo este tipo de variable\n",
        "    replace!(contagios, missing => 0)\n",
        "    replace!(muertes, missing => 0)\n",
        "   \n",
        "    @. expmodel(x, p) = p[1]*exp(x * p[2])\n",
        "    @. potmodel(x, p) = p[1]*(x^p[2])\n",
        "   \n",
        "    #Este primer condicional nos sirve para saber si queremos un ajuste con exponencial o con una seride potencias\n",
        "   \n",
        "    \n",
        "    if aproximacion \n",
        "        #Este segundo condicional determina si queremos los contagios o muertes  \n",
        "\n",
        "        if casos_o_muertes\n",
        "            numero_dias=1:100\n",
        "            plot(numero_dias,contagios[indice,:])\n",
        "\n",
        "            ydata = contagios[indice,:]\n",
        "            p0 = [0.5, 0.5]\n",
        "            fit = curve_fit(expmodel, numero_dias, ydata, p0)\n",
        "            #@show fit.param\n",
        "            plot!(numero_dias, fit.param[1]*exp.(numero_dias .* fit.param[2]), xlabel=\"días desde el primer caso\", ylabel=\"Número de casos\", title=\"Numero de casos $(pais[indice])\",label = \"ajuste\")\n",
        "        else\n",
        "            numero_dias=1:100\n",
        "            plot(numero_dias,muertes[indice,:])\n",
        "\n",
        "            ydata = muertes[indice,:]\n",
        "            p0 = [0.5, 0.5]\n",
        "            fit = curve_fit(expmodel, numero_dias, ydata, p0)\n",
        "            #@show fit.param\n",
        "            plot!(numero_dias, fit.param[1]*exp.(numero_dias .* fit.param[2]),xlabel=\"días desde el primer caso\", ylabel=\"Número de muertes\", title=\"Numero de muertes $(pais[indice])\", label = \"ajuste\")\n",
        "\n",
        "        end\n",
        "    else\n",
        "        if casos_o_muertes\n",
        "            numero_dias=1:100\n",
        "            plot(numero_dias,contagios[indice,:])\n",
        "\n",
        "            ydata = contagios[indice,:]\n",
        "            p0 = [0.5, 0.5]\n",
        "            fit = curve_fit(potmodel, numero_dias, ydata, p0)\n",
        "            #@show fit.param\n",
        "            plot!(numero_dias, fit.param[1] .* (numero_dias .^ fit.param[2] ),xlabel=\"días desde el primer caso\", ylabel=\"Número de casos\", title=\"Numero de casos $(pais[indice])\",label = \"ajuste\")\n",
        "        else\n",
        "            numero_dias=1:100\n",
        "            plot(numero_dias,muertes[indice,:])\n",
        "\n",
        "            ydata = muertes[indice,:]\n",
        "            p0 = [0.5, 0.5]\n",
        "            fit = curve_fit(potmodel, numero_dias, ydata, p0)\n",
        "            #@show fit.param\n",
        "            plot!(numero_dias, fit.param[1] .* (numero_dias .^ fit.param[2] ), xlabel=\"días desde el primer caso\", ylabel=\"Número de muertes\", title=\"Numero de muertes  $(pais[indice])\", label = \"ajuste\")\n",
        "        end\n",
        "    end\n",
        "    plot!()\n",
        "end\n",
        "\n"
      ],
      "id": "sXXdmLdyhgk7",
      "execution_count": null,
      "outputs": []
    },
    {
      "cell_type": "code",
      "metadata": {
        "id": "51TnRnJfhjld"
      },
      "source": [
        "#Se muestra el funcionamiento de la función creada, se puede usar con el nombre del país o con su indice\n",
        "casos100dias(1,false,true) \n",
        "#El primer valor booleano sirve para definir si se quiere un ajuste con exponencial o con serie de \n",
        "#potencias, true=exponencial, else ley de potencias\n",
        "#El segundo valor sirve para mostrar contagios o muertes, true=contagios, else muertes\n"
      ],
      "id": "51TnRnJfhjld",
      "execution_count": null,
      "outputs": []
    },
    {
      "cell_type": "code",
      "metadata": {
        "id": "nGUbyxk7hkZt"
      },
      "source": [
        "casos100dias(\"Mexico\",true,true) "
      ],
      "id": "nGUbyxk7hkZt",
      "execution_count": null,
      "outputs": []
    },
    {
      "cell_type": "code",
      "metadata": {
        "id": "0w1zzefWhmHJ"
      },
      "source": [
        "for i in 134:164\n",
        "    casos100dias(i,true,true)\n",
        "    plot!(show = :ijulia)\n",
        "    sleep(3)\n",
        "end"
      ],
      "id": "0w1zzefWhmHJ",
      "execution_count": null,
      "outputs": []
    },
    {
      "cell_type": "markdown",
      "metadata": {
        "id": "beaa0f63"
      },
      "source": [
        "[8] **(largo-fácil)** Obtén de  [<em>aquí<em>](https://smn.conagua.gob.mx/es/climatologia/informacion-climatologica/informacion-estadistica-climatologica) los datos de temperatura máxima y mínima diaria de alguna estación meteorológica con al menos 30 años de datos. Con esos datos has un archivo CSV (vía cualquier editor de texto, por ejemplo notepad). Lee la base de datos (que debería tener fecha, precipitación, evaporación, t_max y t_min) y grafica la t_max vs días y t_min vs días. Hazlo para varias estaciones (al menos 5 estaciones suficientemente distantes). ¿Notas que haya calentamiento? "
      ],
      "id": "beaa0f63"
    },
    {
      "cell_type": "code",
      "metadata": {
        "id": "ffc4ee5c"
      },
      "source": [
        "URLtoCSV(\"https://smn.conagua.gob.mx/tools/RESOURCES/Diarios/9045.txt\",\"9045.txt\")\n",
        "URLtoCSV(\"https://smn.conagua.gob.mx/tools/RESOURCES/Diarios/20191.txt\",\"20191.txt\")\n",
        "URLtoCSV(\"https://smn.conagua.gob.mx/tools/RESOURCES/Diarios/16515.txt\",\"16515.txt\")\n",
        "URLtoCSV(\"https://smn.conagua.gob.mx/tools/RESOURCES/Diarios/30102.txt\",\"30102.txt\")\n",
        "URLtoCSV(\"https://smn.conagua.gob.mx/tools/RESOURCES/Diarios/8298.txt\",\"8298.txt\")\n",
        "println(\"Ingresa nombre del archivo CSV:\")\n",
        "nombrecsv = readline()\n",
        "df2 = DataFrame(CSV.File(\"$(nombrecsv)\"))\n",
        "println(first(df2))\n",
        "println(\"Ingresa nombre del archivo CSV:\")\n",
        "nombrecsv = readline()\n",
        "df3 = DataFrame(CSV.File(\"$(nombrecsv)\"))\n",
        "println(first(df3))\n",
        "println(\"Ingresa nombre del archivo CSV:\")\n",
        "nombrecsv = readline()\n",
        "df4 = DataFrame(CSV.File(\"$(nombrecsv)\"))\n",
        "println(first(df4))\n",
        "println(\"Ingresa nombre del archivo CSV:\")\n",
        "nombrecsv = readline()\n",
        "df5 = DataFrame(CSV.File(\"$(nombrecsv)\"))\n",
        "println(first(df5))\n",
        "println(\"Ingresa nombre del archivo CSV:\")\n",
        "nombrecsv = readline()\n",
        "df6 = DataFrame(CSV.File(\"$(nombrecsv)\"))\n",
        "println(first(df6))\n"
      ],
      "id": "ffc4ee5c",
      "execution_count": null,
      "outputs": []
    },
    {
      "cell_type": "markdown",
      "metadata": {
        "id": "9DuQVkJvY335"
      },
      "source": [
        ""
      ],
      "id": "9DuQVkJvY335"
    },
    {
      "cell_type": "markdown",
      "metadata": {
        "id": "d94177c6"
      },
      "source": [
        "Para ser considerado correcto el siguiente problema debe no sólo funcionar, sino además debe ser sustancialmente diferente a los de otros equipos. Si hay un \"overlap\" grande, se considera que no es original y por lo tanto no es válido. \n",
        "\n",
        "[9] **(Largo-difícil)** Haz un bot de Télegram que registre todas las palabras que utilice cada usuario (y por usuario), es decir, el bot debe generar una base de datos con las siguientes columnas: \"Palabras\", \"ContadorNombreDeUsuario1\", \"ContadorNombreDeUsuario2\", etc...(NombreDeUsuarioi debe de sustituirse por el nombre del usuario i) donde cada contador es el número de veces que ese usuario a usado la respectiva palabra. \n",
        "\n",
        "Añade tu bot (necesita ser administrador el bot, sino no puede responder los mensajes) a un grupo con amigos (o compañeros de equipo) y platica con tus amigos (compañeros) lo más \"natural\" posible (como si no existiera el bot) y tanto como puedas (por lo tanto, entre más cercanos sean tus amigos (compañeros) será mejor). Con cada frase que se ponga en el grupo el bot debe descomponerla en \"palabras\" (en español usando la paquetería StringEncodings) omitiendo signos de puntuación. De cada palabra, si una palabra no existe, la añade a la base de datos y pone el contador del usuario que la usó en 1 y los demás en 0. Si la palabra existe simplemente actualiza el contador para el usuario correspondiente. \n",
        "\n",
        "El bot debe además, con cada frase que se escriba, crear (o re-escribir) un archivo CSV que contenga la base de datos. \n",
        "\n",
        "También debes definir los comandos \"\\Graficar\" y \"\\PalabrasComunes\":\n",
        "\n",
        "1. Si lo que se envía al bot es el comando \"\\Grafica\", el bot debe regresar al grupo de télegram una gráfica de Zipf, es decir, en el eje $y$ la frecuencia de cada palabra dividido entre el conteo total de palabras de ese usuario, ordenado de mayor a menor la frecuencia de las palabras y en el eje $x$ los números 1,2,... que corresponden a la posición de cada palabra (la más frecuente, la segunda más frecuente, etc...). Ambos ejes deben estar en escala logarítmica, por lo que es necesario que si el contador de alguna palabra es 0, se sustituya por NaN. \n",
        "2. Si el comando que se envía al bot es \"\\PalabrasComunes\" el bot debe de regresar \"usuario1: palabra1usuario1, palabra2usuario1,...,palabra10usuario1\", \"usuario2:, palabra1usuario2,palabra2usuario2, ...alabra10usuario2\" , ... con usuarioi el nombre del usuario i, y palabrajusuarioi la j-esima plabra más común del usuario i.\n",
        "\n",
        "Finalmente, con la base de datos analiza en un notebook aparte la base de datos. Para cada usuario haz su gráfica de Zipf con un ajuste a una ley de potencias $a x^b$. Es importante antes de ajustar los datos ver la gráfica, pues típicamente la ley de potencias no se ajusta bien para todos los datos, así que hay que considerar sólo aquellos donde se ve \"más o menos una recta\" cuando se grafica en log-log (si tienes dudas, pregúntame vía télegram mostrándome la gráfica que obtuviste). \n",
        "\n",
        "Recuerda también que realmente se necesita una conversación larga. La palabra más común debería por lo menos aparecer $10^3 veces$ (es decir, en verdad les recomiendo elegir personas con las que puedan chismear a gusto para la parte de probar su bot). \n",
        "\n",
        "¿Qué valores de $b$ se obtiene para cada usuario? \n",
        "\n",
        "\n",
        "**Nota:** Este problema se debe entregar aparte (pondré una tarea que se llame \"problema extra Telegram\"), con un archivo .jl que contiene el código del bot de télegram que se pide, un archivo .csv que contiene la base de datos de las palabras y un notebook donde se analizan los resultados. \n",
        "\n",
        "**Nota2:** Como curiosidad, una persona que tiene una $b$ mayor es alguien que tiene un manejo más amplio del lenguaje. Pueden probar con varios amigos y ver quienes tienen mejor manejo del lenguaje. También se pueden comparar con autores famosos o periodistas. "
      ],
      "id": "d94177c6"
    },
    {
      "cell_type": "code",
      "metadata": {
        "id": "07248b41"
      },
      "source": [
        ""
      ],
      "id": "07248b41",
      "execution_count": null,
      "outputs": []
    }
  ]
}